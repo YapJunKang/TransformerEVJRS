{
 "cells": [
  {
   "cell_type": "code",
   "execution_count": null,
   "metadata": {},
   "outputs": [],
   "source": [
    "import os\n",
    "import re\n",
    "import math\n",
    "import pickle\n",
    "import numpy as np\n",
    "import pandas as pd\n",
    "import matplotlib.pyplot as plt\n",
    "\n",
    "import torch\n",
    "import random\n",
    "import torch.nn as nn\n",
    "import torch.nn.functional as F\n",
    "from torch.autograd import Variable\n",
    "from torch.nn import Linear, ReLU, Dropout, Conv2d, MaxPool2d\n",
    "import torch.optim as optim\n",
    "from torch.utils.data import DataLoader\n",
    "from torch.utils.data import TensorDataset\n",
    "from torch.optim import AdamW\n",
    "\n",
    "import gurobipy as gb\n",
    "from gurobipy import GRB\n",
    "import time"
   ]
  },
  {
   "cell_type": "markdown",
   "metadata": {},
   "source": [
    "### Check if GPU available"
   ]
  },
  {
   "cell_type": "code",
   "execution_count": null,
   "metadata": {},
   "outputs": [],
   "source": [
    "# set CUDA_VISIBLE_DEVICES=0\n",
    "os.environ[\"CUDA_VISIBLE_DEVICES\"] = \"0\"\n",
    "\n",
    "device = torch.device(\"cuda:0\" if torch.cuda.is_available() else \"cpu\")\n",
    "print(device)"
   ]
  },
  {
   "cell_type": "code",
   "execution_count": null,
   "metadata": {},
   "outputs": [],
   "source": [
    "interval = 15\n",
    "\n",
    "train_test_dir = os.path.join(os.getcwd(), f\"dataGeneration/preprocessed_data_nopadding_{interval}\")\n",
    "\n",
    "X_train = np.load(os.path.join(train_test_dir, \"X_train.npy\"))\n",
    "X_val = np.load(os.path.join(train_test_dir, \"X_val.npy\"))\n",
    "\n",
    "y_train = np.load(os.path.join(train_test_dir, \"y_train.npy\"))\n",
    "y_val = np.load(os.path.join(train_test_dir, \"y_val.npy\"))\n",
    "\n",
    "index_train = np.load(os.path.join(train_test_dir, \"indices_train.npy\")).astype(\"int64\")\n",
    "index_val = np.load(os.path.join(train_test_dir, \"indices_val.npy\")).astype(\"int64\")\n",
    "\n",
    "solTime_val = np.load(os.path.join(train_test_dir, \"solTime_val.npy\"))\n",
    "objVal_val = np.load(os.path.join(train_test_dir, \"objVal_val.npy\"))\n",
    "schedule_val = np.load(os.path.join(train_test_dir, \"schedule_val.npy\")).astype(\"int32\")\n",
    "model_val = np.load(os.path.join(train_test_dir, \"model_val.npy\")).astype(\"int32\")\n"
   ]
  },
  {
   "cell_type": "code",
   "execution_count": null,
   "metadata": {},
   "outputs": [],
   "source": [
    "print(X_train.shape, X_val.shape)\n",
    "print(y_train.shape, y_val.shape)\n",
    "print(index_train.shape, index_val.shape)\n",
    "\n",
    "print(solTime_val.shape)\n",
    "print(objVal_val.shape)\n",
    "print(schedule_val.shape)\n",
    "print(model_val.shape)\n"
   ]
  },
  {
   "cell_type": "markdown",
   "metadata": {},
   "source": [
    "### Get max length of X and y for padding purposes later (only for training)"
   ]
  },
  {
   "cell_type": "markdown",
   "metadata": {},
   "source": [
    "### Building the Transformer network"
   ]
  },
  {
   "cell_type": "code",
   "execution_count": null,
   "metadata": {},
   "outputs": [],
   "source": [
    "dimensions = X_train[0].shape[1] # feature size\n",
    "\n",
    "nbTime, nbBus, nbSolar = 48, 33, 3\n",
    "\n",
    "charging_station = np.squeeze(pd.read_csv(os.path.join(os.path.join(os.getcwd(), 'systemData'), 'cs_params_variable.csv')).to_numpy())\n",
    "nbCS = len(charging_station)\n",
    "\n",
    "data_dir = os.path.join(os.getcwd(), 'systemData')\n",
    "EV_routes = pd.read_csv(os.path.join(data_dir, 'EV_routes.csv')).to_numpy()\n",
    "nbRoute = EV_routes.shape[0]\n",
    "\n",
    "nbOut = (nbRoute*(nbTime-1) + nbCS*nbTime*2)\n",
    "\n",
    "print(dimensions, nbOut)"
   ]
  },
  {
   "cell_type": "code",
   "execution_count": null,
   "metadata": {},
   "outputs": [],
   "source": [
    "class PositionalEncoding(nn.Module):\n",
    "    def __init__(self, d_model, dropout=0.1, max_len=5000):\n",
    "        super().__init__()\n",
    "        self.dropout = nn.Dropout(p=dropout)\n",
    "\n",
    "        position = torch.arange(max_len).unsqueeze(1)\n",
    "        div_term = torch.exp(torch.arange(0, d_model, 2) * (-math.log(10000.0) / d_model))\n",
    "        pe = torch.zeros(max_len, 1, d_model)\n",
    "        pe[:, 0, 0::2] = torch.sin(position * div_term)\n",
    "        pe[:, 0, 1::2] = torch.cos(position * div_term)\n",
    "        self.register_buffer('pe', pe.transpose(0,1))\n",
    "\n",
    "    def forward(self, x):\n",
    "        x = x + self.pe[:,:x.size(1),:]\n",
    "        return self.dropout(x)\n",
    "\n",
    "class Transformer(nn.Module):\n",
    "    def __init__(self, dimensions: int, out_dim: int, d_model=256, nhead=4, num_layers=2, dim_feedforward=512, dropout=0.1, ffn=256):\n",
    "        super(Transformer, self).__init__()\n",
    "\n",
    "        self.d_model = 64\n",
    "        self.dim_feedforward = 256\n",
    "        self.nhead = 4\n",
    "        self.dp = 0.3\n",
    "        self.ffn = 256\n",
    "\n",
    "        self.embedding = nn.Linear(dimensions, self.d_model)\n",
    "\n",
    "        # self.pos_encoder = PositionalEncoding(self.d_model)\n",
    "\n",
    "        transformer_layer = nn.TransformerEncoderLayer(d_model=self.d_model, nhead=self.nhead, dim_feedforward=self.dim_feedforward, dropout=self.dp, batch_first=True)\n",
    "        self.transformer_encoder = nn.TransformerEncoder(transformer_layer, num_layers=num_layers)\n",
    "\n",
    "        self.classifier = nn.Sequential(\n",
    "            # nn.MaxPool1d(self.d_model),\n",
    "            # nn.Flatten(),\n",
    "            nn.Linear(self.d_model, self.ffn),\n",
    "            nn.ReLU(),\n",
    "            nn.Linear(self.ffn, self.ffn),\n",
    "            nn.ReLU(),\n",
    "            nn.Linear(self.ffn, out_dim),\n",
    "            nn.Sigmoid())\n",
    "        \n",
    "        \n",
    "    def forward(self, x):\n",
    "        x = self.embedding(x)\n",
    "        # x = self.pos_encoder(x)\n",
    "        # print(x.shape)\n",
    "        x = self.transformer_encoder(x)\n",
    "        x = x[:,(nbBus*2+nbSolar):, :]\n",
    "\n",
    "        x = self.classifier(x)\n",
    "        return x\n",
    "        "
   ]
  },
  {
   "cell_type": "markdown",
   "metadata": {},
   "source": [
    "### Create Dataset and DataLoader"
   ]
  },
  {
   "cell_type": "code",
   "execution_count": null,
   "metadata": {},
   "outputs": [],
   "source": [
    "config = {\n",
    "        'batch_size' : 4, # Num samples to average over for gradient updates\n",
    "        'EPOCHS' : 300, # Num times to iterate over the entire dataset\n",
    "        'LEARNING_RATE' : 5e-4, # Learning rate for the optimizer\n",
    "        'WEIGHT_DECAY' : 1e-4, # Weight decay parameter for the Adam optimizer\n",
    "    }"
   ]
  },
  {
   "cell_type": "code",
   "execution_count": null,
   "metadata": {},
   "outputs": [],
   "source": [
    "class coordinationDataset(TensorDataset):\n",
    "    def __init__(self, X, y):\n",
    "        super(coordinationDataset, self).__init__()\n",
    "        self.X = X\n",
    "        self.y = y\n",
    "        \n",
    "    def __getitem__(self, index):\n",
    "        X = self.X[index]\n",
    "        y = self.y[index]\n",
    "        \n",
    "        X_tensor = torch.tensor(X, dtype=torch.float32)\n",
    "        y_tensor = torch.round(torch.tensor(y, dtype=torch.float32))\n",
    "\n",
    "        return X_tensor, y_tensor\n",
    "    \n",
    "    def __len__(self):\n",
    "        return len(self.X)"
   ]
  },
  {
   "cell_type": "code",
   "execution_count": null,
   "metadata": {},
   "outputs": [],
   "source": [
    "train_dataset = coordinationDataset(X_train, y_train)\n",
    "val_dataset = coordinationDataset(X_val, y_val)\n"
   ]
  },
  {
   "cell_type": "code",
   "execution_count": null,
   "metadata": {},
   "outputs": [],
   "source": [
    "net = Transformer(dimensions=dimensions, out_dim=nbOut)\n",
    "\n",
    "batch_size = config['batch_size']\n",
    "train_loader = DataLoader(train_dataset, batch_size=batch_size, shuffle=True)\n",
    "valid_loader = DataLoader(val_dataset, batch_size=batch_size, shuffle=False)\n",
    "\n",
    "optimizer = optim.Adam(net.parameters(), lr=config[\"LEARNING_RATE\"])\n"
   ]
  },
  {
   "cell_type": "markdown",
   "metadata": {},
   "source": [
    "#### Define custom loss function"
   ]
  },
  {
   "cell_type": "code",
   "execution_count": null,
   "metadata": {},
   "outputs": [],
   "source": [
    "def asymmetric_loss(predict, target, gamma_neg=0.3, gamma_pos=0, clip=0.0, eps=1e-8, disable_torch_grad_focal_loss=True):\n",
    "\n",
    "    \"\"\"\"\n",
    "    Parameters\n",
    "    ----------\n",
    "    x: input logits\n",
    "    y: targets (multi-label binarized vector)\n",
    "    \"\"\"\n",
    "\n",
    "    # Calculating Probabilities\n",
    "    x_sigmoid = predict\n",
    "    xs_pos = x_sigmoid\n",
    "    xs_neg = 1 - x_sigmoid\n",
    "\n",
    "    # Asymmetric Clipping\n",
    "    if clip is not None and clip > 0:\n",
    "        xs_neg = (xs_neg + clip).clamp(max=1)\n",
    "\n",
    "    # Basic CE calculation\n",
    "    los_pos = target * torch.log(xs_pos.clamp(min=eps))\n",
    "    los_neg = (1 - target) * torch.log(xs_neg.clamp(min=eps))\n",
    "    loss = los_pos + los_neg\n",
    "\n",
    "    # Asymmetric Focusing\n",
    "    if gamma_neg > 0 or gamma_pos > 0:\n",
    "        if disable_torch_grad_focal_loss:\n",
    "            torch.set_grad_enabled(False)\n",
    "        pt0 = xs_pos * target\n",
    "        pt1 = xs_neg * (1 - target)  # pt = p if t > 0 else 1-p\n",
    "        pt = pt0 + pt1\n",
    "        one_sided_gamma = gamma_pos * target + gamma_neg * (1 - target)\n",
    "        one_sided_w = torch.pow(1 - pt, one_sided_gamma)\n",
    "        if disable_torch_grad_focal_loss:\n",
    "            torch.set_grad_enabled(True)\n",
    "        loss *= one_sided_w\n",
    "\n",
    "    return -loss.sum()\n"
   ]
  },
  {
   "cell_type": "code",
   "execution_count": null,
   "metadata": {},
   "outputs": [],
   "source": [
    "net = net.to(device)"
   ]
  },
  {
   "cell_type": "markdown",
   "metadata": {},
   "source": [
    "### Start of Training Loop"
   ]
  },
  {
   "cell_type": "code",
   "execution_count": null,
   "metadata": {},
   "outputs": [],
   "source": [
    "loss_list = []\n",
    "loss_list_val = []\n",
    "\n",
    "for epoch in range(config[\"EPOCHS\"]):\n",
    "    running_loss = 0.0\n",
    "    running_loss_val = 0.0\n",
    "    \n",
    "    for i, data in enumerate(train_loader):\n",
    "        # predicting\n",
    "        net.train()\n",
    "        inputs, labels = data\n",
    "        inputs, labels = inputs.to(device), labels.to(device)        \n",
    "        optimizer.zero_grad()\n",
    "        outputs = net(inputs)\n",
    "\n",
    "        outputs = outputs.flatten().reshape(labels.shape[0],-1)\n",
    "\n",
    "        # loss_fn = nn.BCELoss()     \n",
    "        # print(outputs.shape, labels.shape)\n",
    "        loss = asymmetric_loss(outputs, labels)\n",
    "        loss.backward()\n",
    "        optimizer.step()\n",
    "        running_loss += loss.item()\n",
    "    print('Epoch %d loss: %.3f' % (epoch + 1, running_loss / len(train_loader)))\n",
    "\n",
    "    for j, data in enumerate(valid_loader):\n",
    "        net.eval()\n",
    "        # predicting\n",
    "        inputs, labels = data\n",
    "        inputs, labels = inputs.to(device), labels.to(device)        \n",
    "        optimizer.zero_grad()\n",
    "        outputs = net(inputs)\n",
    "\n",
    "        outputs = outputs.flatten().reshape(labels.shape[0],-1)\n",
    "\n",
    "        # loss_fn = nn.BCELoss()  \n",
    "        loss = asymmetric_loss(outputs, labels)\n",
    "        running_loss_val += loss.item()\n",
    "    print('Epoch %d val loss: %.3f' % (epoch + 1, running_loss_val / len(valid_loader)))\n",
    "\n",
    "    if len(loss_list_val) > 0:\n",
    "        print(\"min loss: \", min(loss_list_val))\n",
    "        if (running_loss_val / len(valid_loader)) < min(loss_list_val):\n",
    "            torch.save(net.state_dict(), os.path.join(os.getcwd(), f\"ML_Model/transformer_coordination_nopadding_{interval}.pth\"))\n",
    "            print(\"Model saved\")\n",
    "    \n",
    "    loss_list.append(running_loss / len(train_loader))\n",
    "    loss_list_val.append(running_loss_val / len(valid_loader))\n",
    "    \n",
    "    # if training loss is lower than previous loss, save the model\n"
   ]
  },
  {
   "cell_type": "code",
   "execution_count": null,
   "metadata": {},
   "outputs": [],
   "source": [
    "plt.plot(loss_list)\n",
    "plt.plot(loss_list_val)"
   ]
  },
  {
   "cell_type": "markdown",
   "metadata": {},
   "source": [
    "### Model Testing"
   ]
  },
  {
   "cell_type": "code",
   "execution_count": null,
   "metadata": {},
   "outputs": [],
   "source": [
    "# load the model\n",
    "net = Transformer(dimensions=dimensions, out_dim=nbOut)\n",
    "net.load_state_dict(torch.load(os.path.join(os.getcwd(), f\"ML_Model/transformer_coordination_nopadding_{interval}.pth\")))"
   ]
  },
  {
   "cell_type": "code",
   "execution_count": null,
   "metadata": {},
   "outputs": [],
   "source": [
    "# test number of feasible solutions\n",
    "# test the model on the test set\n",
    "net.eval()\n",
    "net.to(device)"
   ]
  },
  {
   "cell_type": "markdown",
   "metadata": {},
   "source": [
    "#### Testing of bit accuracy"
   ]
  },
  {
   "cell_type": "code",
   "execution_count": null,
   "metadata": {},
   "outputs": [],
   "source": [
    "thres = 0.5\n",
    "\n",
    "one_accuracy = []\n",
    "zero_accuracy = []\n",
    "bit_accuracy = []\n",
    "running_loss = 0\n",
    "mean_one = []\n",
    "mean_zero = []\n",
    "\n",
    "for j, data in enumerate(valid_loader):\n",
    "    \n",
    "    net.eval()\n",
    "    inputs, labels = data\n",
    "    inputs, labels = inputs.to(device), labels.to(device)        \n",
    "    optimizer.zero_grad()\n",
    "    outputs = net(inputs)\n",
    "\n",
    "    outputs = outputs.flatten().reshape(labels.shape[0],-1)\n",
    "\n",
    "    loss_fn = nn.BCELoss()\n",
    "    loss = loss_fn(outputs, labels)\n",
    "    running_loss += loss.item()\n",
    "\n",
    "    # start testing\n",
    "    outputs = (outputs).reshape(-1,)   \n",
    "    outputs_percent = outputs\n",
    "    outputs = torch.where(outputs >= thres, torch.ceil(outputs), torch.floor(outputs)).reshape(-1,)\n",
    "    # outputs = torch.round(outputs)\n",
    "    labels = labels.reshape(-1,)\n",
    "\n",
    "    one_labels = torch.where(labels == 1)\n",
    "    zero_labels = torch.where(labels == 0)\n",
    "    \n",
    "    one_outputs = outputs[one_labels]\n",
    "    zero_outputs = outputs[zero_labels]\n",
    "\n",
    "    one_acc = 1 - torch.sum(torch.abs(1 - one_outputs)) / one_outputs.shape[0] # 1 minus percentage of error\n",
    "    zero_acc = 1 - torch.sum(torch.abs(0 - zero_outputs)) / zero_outputs.shape[0]\n",
    "    bit_acc = 1 - torch.sum(torch.abs(outputs - labels)) / labels.shape[0]\n",
    "\n",
    "    one_accuracy.append(one_acc.cpu().detach().numpy())\n",
    "    zero_accuracy.append(zero_acc.cpu().detach().numpy())\n",
    "    bit_accuracy.append(bit_acc.cpu().detach().numpy())\n",
    "\n",
    "    # mean acc\n",
    "    id_1 = torch.where(outputs == 1)\n",
    "    id_0 = torch.where(outputs == 0)\n",
    "\n",
    "    p_1 = outputs_percent[id_1]\n",
    "    p_0 = outputs_percent[id_0]\n",
    "\n",
    "\n",
    "    y_1 = labels[id_1]\n",
    "    y_0 = labels[id_0]\n",
    "\n",
    "    y_1_1 = torch.where(y_1 == 1)\n",
    "    y_1_0 = torch.where(y_1 == 0)\n",
    "    y_0_1 = torch.where(y_0 == 1)\n",
    "    y_0_0 = torch.where(y_0 == 0)\n",
    "\n",
    "    avg_1 = torch.mean(torch.cat((p_1[y_1_1], torch.ones(y_1_0[0].shape[0]).to(device) - p_1[y_1_0])))\n",
    "    avg_0 = torch.mean(torch.cat((p_0[y_0_1], torch.ones(y_0_0[0].shape[0]).to(device) - p_0[y_0_0])))\n",
    "\n",
    "    # avg_1 = torch.mean(torch.cat((p_1[y_1_1],  p_1[y_1_0])))\n",
    "    # avg_0 = torch.mean(torch.cat((p_0[y_0_1], p_0[y_0_0])))\n",
    "\n",
    "    # avg_1 = torch.mean(p_1[y_1_1])\n",
    "    # avg_0 = torch.mean(p_0[y_0_1])\n",
    "\n",
    "    # avg_1 = torch.mean(p_1[y_1_0])\n",
    "    # avg_0 = torch.mean(p_0[y_0_1])\n",
    "\n",
    "    mean_one.append(avg_1.cpu().detach().numpy())\n",
    "    mean_zero.append(avg_0.cpu().detach().numpy())\n",
    "\n",
    "print(\"Average one bit accuracy\", np.mean(one_accuracy))\n",
    "print(\"Average zero bit accuracy\", np.mean(zero_accuracy))\n",
    "print(\"Average bit accuracy\", np.mean(bit_accuracy))\n",
    "print('Loss:', running_loss / len(valid_loader))\n",
    "print(np.mean(mean_one), np.mean(mean_zero))"
   ]
  }
 ],
 "metadata": {
  "kernelspec": {
   "display_name": "phd",
   "language": "python",
   "name": "python3"
  },
  "language_info": {
   "codemirror_mode": {
    "name": "ipython",
    "version": 3
   },
   "file_extension": ".py",
   "mimetype": "text/x-python",
   "name": "python",
   "nbconvert_exporter": "python",
   "pygments_lexer": "ipython3",
   "version": "3.12.8"
  }
 },
 "nbformat": 4,
 "nbformat_minor": 2
}
